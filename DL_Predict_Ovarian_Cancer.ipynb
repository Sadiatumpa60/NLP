{
  "nbformat": 4,
  "nbformat_minor": 0,
  "metadata": {
    "colab": {
      "provenance": [],
      "include_colab_link": true
    },
    "kernelspec": {
      "name": "python3",
      "display_name": "Python 3"
    },
    "language_info": {
      "name": "python"
    }
  },
  "cells": [
    {
      "cell_type": "markdown",
      "metadata": {
        "id": "view-in-github",
        "colab_type": "text"
      },
      "source": [
        "<a href=\"https://colab.research.google.com/github/Sadiatumpa60/NLP/blob/main/DL_Predict_Ovarian_Cancer.ipynb\" target=\"_parent\"><img src=\"https://colab.research.google.com/assets/colab-badge.svg\" alt=\"Open In Colab\"/></a>"
      ]
    },
    {
      "cell_type": "code",
      "execution_count": null,
      "metadata": {
        "colab": {
          "base_uri": "https://localhost:8080/"
        },
        "id": "9_MRxHbv_sH9",
        "outputId": "5763b997-eacc-4436-a0a7-40e0e4b5e203"
      },
      "outputs": [
        {
          "output_type": "stream",
          "name": "stdout",
          "text": [
            "Mounted at /content/drive\n"
          ]
        }
      ],
      "source": [
        "from google.colab import drive\n",
        "drive.mount('/content/drive')"
      ]
    },
    {
      "cell_type": "code",
      "source": [
        "# import important library\n",
        "import pandas as pd\n",
        "import matplotlib.pyplot as plt\n",
        "import matplotlib as mpl\n",
        "import numpy as np\n",
        "import seaborn as sns\n",
        "from scipy import stats\n",
        "import os\n",
        "from collections import Counter\n",
        "\n",
        "%matplotlib inline\n",
        "import pickle\n",
        "import warnings\n",
        "from sklearn import metrics\n",
        "from sklearn.preprocessing import LabelEncoder\n",
        "from sklearn.base import clone\n",
        "from sklearn.preprocessing import label_binarize\n",
        "from scipy import interp\n",
        "from sklearn.metrics import roc_curve, auc \n",
        "\n",
        "from matplotlib.legend_handler import HandlerLine2D\n",
        "import time\n",
        "\n",
        "import sklearn\n",
        "from sklearn.model_selection import train_test_split\n",
        "from sklearn.preprocessing import StandardScaler\n",
        "from sklearn.preprocessing import MinMaxScaler\n",
        "from sklearn.preprocessing import LabelEncoder\n",
        "from sklearn.linear_model import LogisticRegression\n",
        "from sklearn.naive_bayes import GaussianNB\n",
        "from sklearn.tree import DecisionTreeClassifier\n",
        "from sklearn.ensemble import RandomForestClassifier\n",
        "from sklearn import svm\n",
        "from sklearn.svm import SVC\n",
        "from sklearn.ensemble import GradientBoostingClassifier\n",
        "from sklearn.neural_network import MLPClassifier\n",
        "from sklearn.metrics import classification_report\n",
        "\n",
        "from sklearn.preprocessing import StandardScaler\n",
        "from sklearn.decomposition import PCA\n",
        "from sklearn.pipeline import Pipeline\n",
        "from sklearn.model_selection import train_test_split\n",
        "from sklearn.model_selection import GridSearchCV\n",
        "from sklearn.model_selection import RandomizedSearchCV\n",
        "from sklearn.model_selection import cross_val_score\n",
        "\n",
        "from xgboost import XGBClassifier\n",
        "\n",
        "from sklearn.metrics import accuracy_score\n",
        "#from sklearn.externals import joblib"
      ],
      "metadata": {
        "id": "ecNdg1_UCQ1I"
      },
      "execution_count": null,
      "outputs": []
    },
    {
      "cell_type": "code",
      "source": [
        "import pandas as pd\n",
        "import numpy as np\n",
        "import seaborn as sns\n",
        "import matplotlib.pyplot as plt\n",
        "\n",
        "df_original = pd.read_csv('/content/drive/MyDrive/NiazSir_Research/Predict Ovarian Cancer_withlevel (2).csv')\n",
        "df_original.head()"
      ],
      "metadata": {
        "id": "PBNja8-wUQpz"
      },
      "execution_count": null,
      "outputs": []
    },
    {
      "cell_type": "code",
      "source": [
        "df_original.dtypes"
      ],
      "metadata": {
        "colab": {
          "base_uri": "https://localhost:8080/"
        },
        "id": "L8c--EiPD3gN",
        "outputId": "764916dd-5d30-43dc-b4f3-8bb2dc64ce1e"
      },
      "execution_count": null,
      "outputs": [
        {
          "output_type": "execute_result",
          "data": {
            "text/plain": [
              "TYPE           int64\n",
              "MPV          float64\n",
              "BASO#        float64\n",
              "PHOS         float64\n",
              "GLU.         float64\n",
              "K            float64\n",
              "AST          float64\n",
              "BASO%        float64\n",
              "Mg           float64\n",
              "Menopause      int64\n",
              "CL           float64\n",
              "CEA          float64\n",
              "EO#          float64\n",
              "CA19-9       float64\n",
              "ALB          float64\n",
              "IBIL         float64\n",
              "GGT          float64\n",
              "MCH          float64\n",
              "GLO          float64\n",
              "ALT          float64\n",
              "DBIL         float64\n",
              "Age            int64\n",
              "RDW          float64\n",
              "PDW          float64\n",
              "CREA         float64\n",
              "AFP          float64\n",
              "HGB          float64\n",
              "Na           float64\n",
              "HE4          float64\n",
              "LYM#         float64\n",
              "CA125        float64\n",
              "BUN          float64\n",
              "LYM%         float64\n",
              "Ca           float64\n",
              "AG           float64\n",
              "MONO#        float64\n",
              "PLT            int64\n",
              "NEU          float64\n",
              "EO%          float64\n",
              "TP           float64\n",
              "UA           float64\n",
              "RBC          float64\n",
              "PCT          float64\n",
              "CO2CP        float64\n",
              "TBIL         float64\n",
              "HCT          float64\n",
              "MONO%        float64\n",
              "MCV          float64\n",
              "ALP          float64\n",
              "dtype: object"
            ]
          },
          "metadata": {},
          "execution_count": 5
        }
      ]
    },
    {
      "cell_type": "code",
      "source": [
        "df_original=df_original[pd.to_numeric(df_original['TYPE'], errors='coerce').notnull()]\n",
        "df_original['TYPE']=df_original['TYPE'].astype('float')\n",
        "\n",
        "df_original=df_original[pd.to_numeric(df_original['Menopause'], errors='coerce').notnull()]\n",
        "df_original['Menopause']=df_original['Menopause'].astype('float')\n",
        "\n",
        "df_original=df_original[pd.to_numeric(df_original['Age'], errors='coerce').notnull()]\n",
        "df_original['Age']=df_original['Age'].astype('float')\n",
        "\n",
        "df_original=df_original[pd.to_numeric(df_original['TYPE'], errors='coerce').notnull()]\n",
        "df_original['PLT']=df_original['PLT'].astype('float')"
      ],
      "metadata": {
        "id": "Yatb9y-vEZYw"
      },
      "execution_count": null,
      "outputs": []
    },
    {
      "cell_type": "code",
      "source": [
        "df_original.dtypes"
      ],
      "metadata": {
        "colab": {
          "base_uri": "https://localhost:8080/"
        },
        "id": "h0_a7DKnFEuy",
        "outputId": "62b09bcf-45fc-418f-9683-bca3a7d669de"
      },
      "execution_count": null,
      "outputs": [
        {
          "output_type": "execute_result",
          "data": {
            "text/plain": [
              "TYPE         float64\n",
              "MPV          float64\n",
              "BASO#        float64\n",
              "PHOS         float64\n",
              "GLU.         float64\n",
              "K            float64\n",
              "AST          float64\n",
              "BASO%        float64\n",
              "Mg           float64\n",
              "Menopause    float64\n",
              "CL           float64\n",
              "CEA          float64\n",
              "EO#          float64\n",
              "CA19-9       float64\n",
              "ALB          float64\n",
              "IBIL         float64\n",
              "GGT          float64\n",
              "MCH          float64\n",
              "GLO          float64\n",
              "ALT          float64\n",
              "DBIL         float64\n",
              "Age          float64\n",
              "RDW          float64\n",
              "PDW          float64\n",
              "CREA         float64\n",
              "AFP          float64\n",
              "HGB          float64\n",
              "Na           float64\n",
              "HE4          float64\n",
              "LYM#         float64\n",
              "CA125        float64\n",
              "BUN          float64\n",
              "LYM%         float64\n",
              "Ca           float64\n",
              "AG           float64\n",
              "MONO#        float64\n",
              "PLT          float64\n",
              "NEU          float64\n",
              "EO%          float64\n",
              "TP           float64\n",
              "UA           float64\n",
              "RBC          float64\n",
              "PCT          float64\n",
              "CO2CP        float64\n",
              "TBIL         float64\n",
              "HCT          float64\n",
              "MONO%        float64\n",
              "MCV          float64\n",
              "ALP          float64\n",
              "dtype: object"
            ]
          },
          "metadata": {},
          "execution_count": 7
        }
      ]
    },
    {
      "cell_type": "code",
      "source": [],
      "metadata": {
        "id": "9Of48M7BFwHo"
      },
      "execution_count": null,
      "outputs": []
    },
    {
      "cell_type": "code",
      "source": [
        "from sklearn.feature_selection import mutual_info_classif"
      ],
      "metadata": {
        "id": "bQEFbAdUCxuP"
      },
      "execution_count": null,
      "outputs": []
    },
    {
      "cell_type": "code",
      "source": [
        "feature_df =df_original [['MPV','BASO#' ,'PHOS', 'GLU.', 'K','AST', 'BASO%','Mg','Menopause','CL','CEA','EO#','CA19-9','ALB','IBIL','GGT','MCH','GLO','ALT','DBIL','Age','RDW',\n",
        "                          'PDW','CREA','AFP','HGB','Na','HE4','LYM#','CA125','BUN','LYM%','Ca','AG','MONO#','PLT','NEU','EO%','TP','UA','RBC','PCT','CO2CP','TBIL',\n",
        "                          'HCT','MONO%','MCV','ALP']]\n",
        "pk_class_labels =df_original['TYPE']"
      ],
      "metadata": {
        "id": "vGnjkVHPC0wp"
      },
      "execution_count": null,
      "outputs": []
    },
    {
      "cell_type": "code",
      "source": [
        "import tensorflow as tf\n",
        "from tensorflow import keras\n",
        "from tensorflow.keras import callbacks,layers"
      ],
      "metadata": {
        "id": "0zlRceBRF-Hg"
      },
      "execution_count": null,
      "outputs": []
    },
    {
      "cell_type": "code",
      "source": [
        "stp_train_X, stp_test_X, stp_train_y, stp_test_y = train_test_split(feature_df, \n",
        "             pk_class_labels, test_size=0.3, random_state=42)"
      ],
      "metadata": {
        "id": "0YiYqcU0GC7D"
      },
      "execution_count": null,
      "outputs": []
    },
    {
      "cell_type": "code",
      "source": [
        "stp_train_X= np.array(stp_train_X)\n",
        "stp_test_X=np.array(stp_test_X)\n",
        "stp_train_y=np.array(stp_train_y)\n",
        "stp_test_y=np.array( stp_test_y)\n",
        "\n"
      ],
      "metadata": {
        "id": "MhPGBHMqGGb9"
      },
      "execution_count": null,
      "outputs": []
    },
    {
      "cell_type": "code",
      "source": [
        "stp_train_X[0].shape"
      ],
      "metadata": {
        "colab": {
          "base_uri": "https://localhost:8080/"
        },
        "id": "mELskkntHc8L",
        "outputId": "5bf86e2c-c069-46bb-8949-6070bc2f74b9"
      },
      "execution_count": null,
      "outputs": [
        {
          "output_type": "execute_result",
          "data": {
            "text/plain": [
              "(48,)"
            ]
          },
          "metadata": {},
          "execution_count": 42
        }
      ]
    },
    {
      "cell_type": "markdown",
      "source": [],
      "metadata": {
        "id": "Mx5XNhEOHcX1"
      }
    },
    {
      "cell_type": "markdown",
      "source": [
        "  16 lyars of NN"
      ],
      "metadata": {
        "id": "r-gEGSdpIkEZ"
      }
    },
    {
      "cell_type": "code",
      "source": [
        "\n",
        "import tensorflow as tf\n",
        "from tensorflow import keras\n",
        "from tensorflow.keras import callbacks,layers\n",
        "from tensorflow.keras.models import Sequential\n",
        "from tensorflow.keras.layers import Input,Dense,Dropout\n"
      ],
      "metadata": {
        "id": "1m27wUQEBoR9"
      },
      "execution_count": null,
      "outputs": []
    },
    {
      "cell_type": "code",
      "source": [
        "model = Sequential()\n",
        "model.add(Input(shape=(48,)))\n",
        "model.add(Dense(16,activation='relu'))  #using 16 nurons \n",
        "model.add(Dropout(0.2)) \n",
        "model.add(Dense(8,activation='relu')) #using 8 nurons \n",
        "model.add(Dropout(0.2)) \n",
        "#model.add(Dense(8,activation='relu')) #using 8 nurons \n",
        "#model.add(Dropout(0.2))\n",
        "#model.add(Dense(4,activation='relu')) #using 8 nurons \n",
        "#model.add(Dropout(0.2))\n",
        "model.add(Dense(1,activation='sigmoid'))"
      ],
      "metadata": {
        "id": "IQ51KsM9CkC9"
      },
      "execution_count": null,
      "outputs": []
    },
    {
      "cell_type": "code",
      "source": [
        "model.compile( optimizer ='sgd' , loss ='binary_crossentropy' ,metrics=['accuracy'])"
      ],
      "metadata": {
        "id": "gE0E9b-gHzxM"
      },
      "execution_count": null,
      "outputs": []
    },
    {
      "cell_type": "code",
      "source": [
        "model.fit(stp_train_X,stp_train_y,epochs=20,validation_data =(stp_test_X,stp_test_y))"
      ],
      "metadata": {
        "colab": {
          "base_uri": "https://localhost:8080/"
        },
        "id": "aGv0jMX5H8hO",
        "outputId": "19343ac8-2ea8-466c-a031-a5cbd9edbbfe"
      },
      "execution_count": null,
      "outputs": [
        {
          "output_type": "stream",
          "name": "stdout",
          "text": [
            "Epoch 1/20\n",
            "6/6 [==============================] - 1s 37ms/step - loss: 58.3105 - accuracy: 0.6220 - val_loss: 3.7891 - val_accuracy: 0.7042\n",
            "Epoch 2/20\n",
            "6/6 [==============================] - 0s 7ms/step - loss: 3.4772 - accuracy: 0.6585 - val_loss: 1.4229 - val_accuracy: 0.5775\n",
            "Epoch 3/20\n",
            "6/6 [==============================] - 0s 7ms/step - loss: 1.1147 - accuracy: 0.6341 - val_loss: 0.9475 - val_accuracy: 0.7465\n",
            "Epoch 4/20\n",
            "6/6 [==============================] - 0s 10ms/step - loss: 0.5262 - accuracy: 0.6524 - val_loss: 0.8555 - val_accuracy: 0.7746\n",
            "Epoch 5/20\n",
            "6/6 [==============================] - 0s 8ms/step - loss: 0.4741 - accuracy: 0.7012 - val_loss: 0.8660 - val_accuracy: 0.7746\n",
            "Epoch 6/20\n",
            "6/6 [==============================] - 0s 10ms/step - loss: 0.7505 - accuracy: 0.6890 - val_loss: 0.5855 - val_accuracy: 0.7746\n",
            "Epoch 7/20\n",
            "6/6 [==============================] - 0s 10ms/step - loss: 0.6483 - accuracy: 0.6463 - val_loss: 0.5173 - val_accuracy: 0.7606\n",
            "Epoch 8/20\n",
            "6/6 [==============================] - 0s 11ms/step - loss: 0.4802 - accuracy: 0.6707 - val_loss: 0.4677 - val_accuracy: 0.8028\n",
            "Epoch 9/20\n",
            "6/6 [==============================] - 0s 12ms/step - loss: 0.4969 - accuracy: 0.7317 - val_loss: 0.5125 - val_accuracy: 0.7465\n",
            "Epoch 10/20\n",
            "6/6 [==============================] - 0s 10ms/step - loss: 0.5018 - accuracy: 0.7317 - val_loss: 0.4651 - val_accuracy: 0.7324\n",
            "Epoch 11/20\n",
            "6/6 [==============================] - 0s 8ms/step - loss: 0.4638 - accuracy: 0.7317 - val_loss: 0.4912 - val_accuracy: 0.7887\n",
            "Epoch 12/20\n",
            "6/6 [==============================] - 0s 10ms/step - loss: 0.4673 - accuracy: 0.7195 - val_loss: 0.4972 - val_accuracy: 0.8028\n",
            "Epoch 13/20\n",
            "6/6 [==============================] - 0s 11ms/step - loss: 0.5079 - accuracy: 0.6890 - val_loss: 0.4705 - val_accuracy: 0.7324\n",
            "Epoch 14/20\n",
            "6/6 [==============================] - 0s 12ms/step - loss: 0.6563 - accuracy: 0.6829 - val_loss: 0.4839 - val_accuracy: 0.8028\n",
            "Epoch 15/20\n",
            "6/6 [==============================] - 0s 7ms/step - loss: 0.4395 - accuracy: 0.7317 - val_loss: 0.5389 - val_accuracy: 0.7042\n",
            "Epoch 16/20\n",
            "6/6 [==============================] - 0s 7ms/step - loss: 0.4770 - accuracy: 0.7317 - val_loss: 0.4755 - val_accuracy: 0.7887\n",
            "Epoch 17/20\n",
            "6/6 [==============================] - 0s 10ms/step - loss: 0.5747 - accuracy: 0.6829 - val_loss: 0.4723 - val_accuracy: 0.8310\n",
            "Epoch 18/20\n",
            "6/6 [==============================] - 0s 11ms/step - loss: 0.4894 - accuracy: 0.6951 - val_loss: 0.4716 - val_accuracy: 0.7887\n",
            "Epoch 19/20\n",
            "6/6 [==============================] - 0s 7ms/step - loss: 0.5512 - accuracy: 0.6829 - val_loss: 0.4845 - val_accuracy: 0.7746\n",
            "Epoch 20/20\n",
            "6/6 [==============================] - 0s 10ms/step - loss: 0.4940 - accuracy: 0.6098 - val_loss: 0.4701 - val_accuracy: 0.8169\n"
          ]
        },
        {
          "output_type": "execute_result",
          "data": {
            "text/plain": [
              "<keras.callbacks.History at 0x7f4646538390>"
            ]
          },
          "metadata": {},
          "execution_count": 79
        }
      ]
    }
  ]
}